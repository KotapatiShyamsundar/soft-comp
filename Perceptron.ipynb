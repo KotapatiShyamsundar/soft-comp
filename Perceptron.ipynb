{
  "nbformat": 4,
  "nbformat_minor": 0,
  "metadata": {
    "colab": {
      "provenance": []
    },
    "kernelspec": {
      "name": "python3",
      "display_name": "Python 3"
    },
    "language_info": {
      "name": "python"
    }
  },
  "cells": [
    {
      "cell_type": "code",
      "source": [
        "#Single-layer Percepton\n",
        "import numpy as np\n",
        "import math\n",
        "x=np.array([[1,1,1],[1,-1,-1],[-1,1,-1],[-1,-1,-1]])\n",
        "w1,w2,b=0,0,1\n",
        "alpha=0.5\n",
        "epoch=0\n",
        "while True:\n",
        "  threshold=0\n",
        "  epoch+=1 \n",
        "  a=[]\n",
        "  for i in range(4):\n",
        "    x1=x[i][0]\n",
        "    x2=x[i][1]\n",
        "    t=x[i][2]\n",
        "    yin=x1*w1+x2*w2+b\n",
        "    if yin>threshold:\n",
        "      y=1\n",
        "    else:\n",
        "      y=-1\n",
        "    if y!=t:\n",
        "      a.append(0)\n",
        "      w1+=alpha*t*x1\n",
        "      w2+=alpha*t*x2\n",
        "      b+=alpha*t\n",
        "    else:\n",
        "      a.append(1)\n",
        "  count=0\n",
        "  for i in a:\n",
        "    if i==0:\n",
        "      count+=1\n",
        "      a=[]\n",
        "      break\n",
        "  if count==0:\n",
        "    print(\"w1={},w2={},b={}\".format(w1,w2,b))\n",
        "    break"
      ],
      "metadata": {
        "colab": {
          "base_uri": "https://localhost:8080/"
        },
        "id": "uwzBvGz1Gtgj",
        "outputId": "43f68c14-48ff-4d6b-ead2-fe8358bbe3b4"
      },
      "execution_count": null,
      "outputs": [
        {
          "output_type": "stream",
          "name": "stdout",
          "text": [
            "w1=0.5,w2=0.5,b=-0.5\n"
          ]
        }
      ]
    },
    {
      "cell_type": "code",
      "source": [
        "#Multi-layer Perceptron\n",
        "import numpy as np\n",
        "import math\n",
        "x=np.array([[1,1,1],[1,-1,-1],[-1,1,-1],[-1,-1,-1]])\n",
        "p=np.array([[1,1,1],[1,-1,-1],[-1,1,-1],[-1,-1,-1]])\n",
        "w1,w2=0,0\n",
        "b1,b2,b3=0,0,1\n",
        "alpha=1\n",
        "v1,v2=0,0\n",
        "def x1_andnot_x2(x,w1,w2,alpha,b1):\n",
        "  threshold=0\n",
        "  for i in range(4):\n",
        "    x1=x[i][0]\n",
        "    x2=x[i][1]\n",
        "    t=x[i][2]\n",
        "    yin=x1*w1+x2*w2+b\n",
        "    if yin>threshold:\n",
        "      y=1\n",
        "    else:\n",
        "      y=-1\n",
        "    if y!=t:\n",
        "      w1+=alpha*t*x1\n",
        "      w2+=alpha*t*x2\n",
        "      b1+=alpha*t\n",
        "    else:\n",
        "     continue\n",
        "  return y\n",
        "\n",
        "def x2_andnot_x1(p,w1,w2,alpha,b2):\n",
        "  threshold=0\n",
        "  for i in range(4):\n",
        "    x1=p[i][0]\n",
        "    x2=p[i][1]\n",
        "    t=p[i][2]\n",
        "    yin=x1*w1+x2*w2+b\n",
        "    if yin>threshold:\n",
        "      y=1\n",
        "    else:\n",
        "      y=-1\n",
        "    if y!=t:\n",
        "      w1+=alpha*t*x1\n",
        "      w2+=alpha*t*x2\n",
        "      b2+=alpha*t\n",
        "    else:\n",
        "     continue\n",
        "  return y\n",
        "\n",
        "def or_operation(z1,z2,v1,v2,b3):\n",
        "  threshold=0\n",
        "  yin=z1*v1+z2*v2+b3 \n",
        "  if yin>threshold:\n",
        "    y=1\n",
        "  else:\n",
        "    y=-1\n",
        "  return y\n",
        "z1=x1_andnot_x2(x,w1,w2,alpha,b1)\n",
        "z2=x2_andnot_x1(p,w1,w2,alpha,b2)\n",
        "print(\"ans={}\".format(or_operation(z1,z2,v1,v2,b3)))\n"
      ],
      "metadata": {
        "colab": {
          "base_uri": "https://localhost:8080/"
        },
        "id": "zQAB9WjBG-i7",
        "outputId": "0c176baa-3d1b-401b-b1af-ca83803615f2"
      },
      "execution_count": null,
      "outputs": [
        {
          "output_type": "stream",
          "name": "stdout",
          "text": [
            "ans=1\n"
          ]
        }
      ]
    },
    {
      "cell_type": "code",
      "source": [],
      "metadata": {
        "id": "ODTPKwbJIQQu"
      },
      "execution_count": null,
      "outputs": []
    }
  ]
}