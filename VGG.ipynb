{
  "nbformat": 4,
  "nbformat_minor": 0,
  "metadata": {
    "colab": {
      "provenance": []
    },
    "kernelspec": {
      "name": "python3",
      "display_name": "Python 3"
    },
    "language_info": {
      "name": "python"
    }
  },
  "cells": [
    {
      "cell_type": "code",
      "execution_count": null,
      "metadata": {
        "id": "LxnpGzt3_ie6"
      },
      "outputs": [],
      "source": [
        "import tensorflow as tf\n",
        "import matplotlib.pyplot as plt\n",
        "from tensorflow.keras import datasets, layers, models, losses"
      ]
    },
    {
      "cell_type": "code",
      "source": [
        "(x_train, y_train), (x_test, y_test)=tf.keras.datasets.mnist.load_data()\n",
        "x_train = tf.pad(x_train, [[0, 0], [2,2], [2,2]])/255\n",
        "x_test = tf.pad(x_test, [[0, 0], [2,2], [2,2]])/255\n",
        "x_train = tf.expand_dims(x_train, axis=3, name=None)\n",
        "x_test = tf.expand_dims(x_test, axis=3, name=None)\n",
        "x_train = tf.repeat(x_train, 3, axis=3)\n",
        "x_test = tf.repeat(x_test, 3, axis=3)\n",
        "x_val = x_train[-2000:,:,:,:]\n",
        "y_val = y_train[-2000:]\n",
        "x_train = x_train[:-2000,:,:,:]\n",
        "y_train = y_train[:-2000]"
      ],
      "metadata": {
        "colab": {
          "base_uri": "https://localhost:8080/"
        },
        "id": "cJxSRp9R_-aO",
        "outputId": "63055d44-31c6-422e-8c39-233157b885ce"
      },
      "execution_count": null,
      "outputs": [
        {
          "output_type": "stream",
          "name": "stdout",
          "text": [
            "Downloading data from https://storage.googleapis.com/tensorflow/tf-keras-datasets/mnist.npz\n",
            "11490434/11490434 [==============================] - 1s 0us/step\n"
          ]
        }
      ]
    },
    {
      "cell_type": "code",
      "source": [
        "model=models.Sequential()\n",
        "model.add(layers.experimental.preprocessing.Resizing(224,224,interpolation='bilinear',input_shape=x_train.shape[1:]))\n",
        "\n",
        "model.add(layers.Conv2D(64,3,strides=1,padding='same'))\n",
        "model.add(layers.Activation('relu'))\n",
        "\n",
        "model.add(layers.Conv2D(64,3,strides=1,padding='same'))\n",
        "model.add(layers.Activation('relu'))\n",
        "model.add(layers.MaxPooling2D(2,strides=2))\n",
        "\n",
        "model.add(layers.Conv2D(128,3,strides=1,padding='same'))\n",
        "model.add(layers.Activation('relu'))\n",
        "\n",
        "model.add(layers.Conv2D(128,3,strides=1,padding='same'))\n",
        "model.add(layers.Activation('relu'))\n",
        "model.add(layers.MaxPooling2D(2,strides=2))\n",
        "\n",
        "model.add(layers.Conv2D(256,3,strides=1,padding='same'))\n",
        "model.add(layers.Activation('relu'))\n",
        "\n",
        "model.add(layers.Conv2D(256,3,strides=1,padding='same'))\n",
        "model.add(layers.Activation('relu'))\n",
        "\n",
        "model.add(layers.Conv2D(256,1,strides=1,padding='same'))\n",
        "model.add(layers.Activation('relu'))\n",
        "model.add(layers.MaxPooling2D(2,strides=2))\n",
        "\n",
        "model.add(layers.Conv2D(512,3,strides=1,padding='same'))\n",
        "model.add(layers.Activation('relu'))\n",
        "\n",
        "model.add(layers.Conv2D(512,3,strides=1,padding='same'))\n",
        "model.add(layers.Activation('relu'))\n",
        "\n",
        "model.add(layers.Conv2D(512,1,strides=1,padding='same'))\n",
        "model.add(layers.Activation('relu'))\n",
        "model.add(layers.MaxPooling2D(2,strides=2))\n",
        "\n",
        "model.add(layers.Conv2D(512,3,strides=1,padding='same'))\n",
        "model.add(layers.Activation('relu'))\n",
        "\n",
        "model.add(layers.Conv2D(512,3,strides=1,padding='same'))\n",
        "model.add(layers.Activation('relu'))\n",
        "\n",
        "model.add(layers.Conv2D(512,1,strides=1,padding='same'))\n",
        "model.add(layers.Activation('relu'))\n",
        "model.add(layers.MaxPooling2D(2,strides=2))\n",
        "\n",
        "model.add(layers.Flatten())\n",
        "model.add(layers.Dense(4096, activation='relu'))\n",
        "model.add(layers.Dropout(0.5))\n",
        "\n",
        "model.add(layers.Dense(4096, activation='relu'))\n",
        "model.add(layers.Dropout(0.5))\n",
        "\n",
        "model.add(layers.Dense(10, activation='softmax'))\n",
        "model.summary()\n",
        "\n",
        "\n"
      ],
      "metadata": {
        "colab": {
          "base_uri": "https://localhost:8080/"
        },
        "id": "JviRwGqi_-ba",
        "outputId": "0bc8be96-9c26-43cc-9761-2e4770b29fab"
      },
      "execution_count": null,
      "outputs": [
        {
          "output_type": "stream",
          "name": "stdout",
          "text": [
            "Model: \"sequential_1\"\n",
            "_________________________________________________________________\n",
            " Layer (type)                Output Shape              Param #   \n",
            "=================================================================\n",
            " resizing_1 (Resizing)       (None, 224, 224, 3)       0         \n",
            "                                                                 \n",
            " conv2d_1 (Conv2D)           (None, 224, 224, 64)      1792      \n",
            "                                                                 \n",
            " activation (Activation)     (None, 224, 224, 64)      0         \n",
            "                                                                 \n",
            " conv2d_2 (Conv2D)           (None, 224, 224, 64)      36928     \n",
            "                                                                 \n",
            " activation_1 (Activation)   (None, 224, 224, 64)      0         \n",
            "                                                                 \n",
            " max_pooling2d (MaxPooling2D  (None, 112, 112, 64)     0         \n",
            " )                                                               \n",
            "                                                                 \n",
            " conv2d_3 (Conv2D)           (None, 112, 112, 128)     73856     \n",
            "                                                                 \n",
            " activation_2 (Activation)   (None, 112, 112, 128)     0         \n",
            "                                                                 \n",
            " conv2d_4 (Conv2D)           (None, 112, 112, 128)     147584    \n",
            "                                                                 \n",
            " activation_3 (Activation)   (None, 112, 112, 128)     0         \n",
            "                                                                 \n",
            " max_pooling2d_1 (MaxPooling  (None, 56, 56, 128)      0         \n",
            " 2D)                                                             \n",
            "                                                                 \n",
            " conv2d_5 (Conv2D)           (None, 56, 56, 256)       295168    \n",
            "                                                                 \n",
            " activation_4 (Activation)   (None, 56, 56, 256)       0         \n",
            "                                                                 \n",
            " conv2d_6 (Conv2D)           (None, 56, 56, 256)       590080    \n",
            "                                                                 \n",
            " activation_5 (Activation)   (None, 56, 56, 256)       0         \n",
            "                                                                 \n",
            " conv2d_7 (Conv2D)           (None, 56, 56, 256)       65792     \n",
            "                                                                 \n",
            " activation_6 (Activation)   (None, 56, 56, 256)       0         \n",
            "                                                                 \n",
            " max_pooling2d_2 (MaxPooling  (None, 28, 28, 256)      0         \n",
            " 2D)                                                             \n",
            "                                                                 \n",
            " conv2d_8 (Conv2D)           (None, 28, 28, 512)       1180160   \n",
            "                                                                 \n",
            " activation_7 (Activation)   (None, 28, 28, 512)       0         \n",
            "                                                                 \n",
            " conv2d_9 (Conv2D)           (None, 28, 28, 512)       2359808   \n",
            "                                                                 \n",
            " activation_8 (Activation)   (None, 28, 28, 512)       0         \n",
            "                                                                 \n",
            " conv2d_10 (Conv2D)          (None, 28, 28, 512)       262656    \n",
            "                                                                 \n",
            " activation_9 (Activation)   (None, 28, 28, 512)       0         \n",
            "                                                                 \n",
            " max_pooling2d_3 (MaxPooling  (None, 14, 14, 512)      0         \n",
            " 2D)                                                             \n",
            "                                                                 \n",
            " conv2d_11 (Conv2D)          (None, 14, 14, 512)       2359808   \n",
            "                                                                 \n",
            " activation_10 (Activation)  (None, 14, 14, 512)       0         \n",
            "                                                                 \n",
            " conv2d_12 (Conv2D)          (None, 14, 14, 512)       2359808   \n",
            "                                                                 \n",
            " activation_11 (Activation)  (None, 14, 14, 512)       0         \n",
            "                                                                 \n",
            " conv2d_13 (Conv2D)          (None, 14, 14, 512)       262656    \n",
            "                                                                 \n",
            " activation_12 (Activation)  (None, 14, 14, 512)       0         \n",
            "                                                                 \n",
            " max_pooling2d_4 (MaxPooling  (None, 7, 7, 512)        0         \n",
            " 2D)                                                             \n",
            "                                                                 \n",
            " flatten (Flatten)           (None, 25088)             0         \n",
            "                                                                 \n",
            " dense (Dense)               (None, 4096)              102764544 \n",
            "                                                                 \n",
            " dropout (Dropout)           (None, 4096)              0         \n",
            "                                                                 \n",
            " dense_1 (Dense)             (None, 4096)              16781312  \n",
            "                                                                 \n",
            " dropout_1 (Dropout)         (None, 4096)              0         \n",
            "                                                                 \n",
            " dense_2 (Dense)             (None, 10)                40970     \n",
            "                                                                 \n",
            "=================================================================\n",
            "Total params: 129,582,922\n",
            "Trainable params: 129,582,922\n",
            "Non-trainable params: 0\n",
            "_________________________________________________________________\n"
          ]
        }
      ]
    },
    {
      "cell_type": "code",
      "source": [
        "model.compile(optimizer='adam', loss=losses.sparse_categorical_crossentropy, metrics=['accuracy'])"
      ],
      "metadata": {
        "id": "t1-z1duo_-fY"
      },
      "execution_count": null,
      "outputs": []
    },
    {
      "cell_type": "markdown",
      "source": [
        "model.compile(optimizer='adam', loss=losses.sparse_categorical_crossentropy, metrics=['accuracy'])\n",
        "\n"
      ],
      "metadata": {
        "id": "PfElsD0zGzu5"
      }
    },
    {
      "cell_type": "code",
      "source": [
        "model.evaluate(x_test,y_test)"
      ],
      "metadata": {
        "id": "k7aBpZlUG8gP"
      },
      "execution_count": null,
      "outputs": []
    }
  ]
}