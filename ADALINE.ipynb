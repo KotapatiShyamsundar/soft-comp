{
  "nbformat": 4,
  "nbformat_minor": 0,
  "metadata": {
    "colab": {
      "provenance": []
    },
    "kernelspec": {
      "name": "python3",
      "display_name": "Python 3"
    },
    "language_info": {
      "name": "python"
    }
  },
  "cells": [
    {
      "cell_type": "markdown",
      "source": [
        "**ADALINE**"
      ],
      "metadata": {
        "id": "PjyWlq899bOd"
      }
    },
    {
      "cell_type": "code",
      "source": [
        "import numpy as np\n",
        "import math\n",
        "x=np.array([[1,1,1],[1,-1,-1],[-1,1,-1],[-1,-1,-1]])\n",
        "w1,w2,b=0.2,0.2,0.1\n",
        "epoch=int(input())\n",
        "alpha=0.1\n",
        "for i in range(epoch):\n",
        "  error=0\n",
        "  a=[]\n",
        "  print(\"\\n\")\n",
        "  print(\"epoch={}\".format(i+1))\n",
        " \n",
        "  for j in range(4):\n",
        "    x1=x[j][0]\n",
        "    x2=x[j][1]\n",
        "    t=x[j][2]\n",
        "    yin=x1*w1+x2*w2+b\n",
        "    if yin!=t:\n",
        "      error=(t-yin)**2\n",
        "      a.append(error)\n",
        "      w1+=alpha*(t-yin)*x1\n",
        "      w2+=alpha*(t-yin)*x2\n",
        "      b+=alpha*(t-yin)\n",
        "    else:\n",
        "      continue\n",
        "  print(\"error={}\".format(sum(a)))\n",
        "  print(\"w1={},w2={}\".format(w1,w2))\n",
        "  print(\"b={}\".format(b))\n",
        "\n",
        "\n"
      ],
      "metadata": {
        "colab": {
          "base_uri": "https://localhost:8080/"
        },
        "id": "nYyiaWFx9fCQ",
        "outputId": "a612c7e4-56f4-4759-cda7-5447d3976b42"
      },
      "execution_count": null,
      "outputs": [
        {
          "output_type": "stream",
          "name": "stdout",
          "text": [
            "12\n",
            "\n",
            "\n",
            "epoch=1\n",
            "error=3.3395972499999997\n",
            "w1=0.30235000000000006,w2=0.27935\n",
            "b=-0.13235\n",
            "\n",
            "\n",
            "epoch=2\n",
            "error=2.187558419966772\n",
            "w1=0.36596063500000003,w2=0.333246335\n",
            "b=-0.27497363500000005\n",
            "\n",
            "\n",
            "epoch=3\n",
            "error=1.7260947504504682\n",
            "w1=0.4055045097035,w2=0.36956958307349996\n",
            "b=-0.36242764300350006\n",
            "\n",
            "\n",
            "epoch=4\n",
            "error=1.5368543843946052\n",
            "w1=0.4300931998272943,w2=0.3938873910763113\n",
            "b=-0.41599415081182434\n",
            "\n",
            "\n",
            "epoch=5\n",
            "error=1.4565170466823618\n",
            "w1=0.4453863573190843,w2=0.41007461178989485\n",
            "b=-0.44876719910796664\n",
            "\n",
            "\n",
            "epoch=6\n",
            "error=1.4207533738843998\n",
            "w1=0.4549003601384121,w2=0.4207958094324761\n",
            "b=-0.46879498981172135\n",
            "\n",
            "\n",
            "epoch=7\n",
            "error=1.403861214014056\n",
            "w1=0.46082050502265637,w2=0.42786538574072874\n",
            "b=-0.4810192592314586\n",
            "\n",
            "\n",
            "epoch=8\n",
            "error=1.3953410860933504\n",
            "w1=0.46450521054868155,w2=0.4325087550415795\n",
            "b=-0.48847113044332435\n",
            "\n",
            "\n",
            "epoch=9\n",
            "error=1.3907598567779218\n",
            "w1=0.46679910233378036,w2=0.4355478081985375\n",
            "b=-0.4930077975676274\n",
            "\n",
            "\n",
            "epoch=10\n",
            "error=1.3881577326974872\n",
            "w1=0.4682274729746374,w2=0.43753050478806876\n",
            "b=-0.4957659078556518\n",
            "\n",
            "\n",
            "epoch=11\n",
            "error=1.3866163542854466\n",
            "w1=0.46911709346084207,w2=0.43882027548209657\n",
            "b=-0.49744031299130953\n",
            "\n",
            "\n",
            "epoch=12\n",
            "error=1.3856761187677642\n",
            "w1=0.46967128820228143,w2=0.43965706142718863\n",
            "b=-0.4984552788015293\n"
          ]
        }
      ]
    },
    {
      "cell_type": "code",
      "source": [],
      "metadata": {
        "id": "qJWmXhIP9fFG"
      },
      "execution_count": null,
      "outputs": []
    }
  ]
}