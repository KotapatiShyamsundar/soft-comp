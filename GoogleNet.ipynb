{
  "cells": [
    {
      "cell_type": "code",
      "execution_count": null,
      "metadata": {
        "id": "ANasmBvl2VSv"
      },
      "outputs": [],
      "source": [
        "import tensorflow as tf\n",
        "\n",
        "import matplotlib.pyplot as plt\n",
        "\n",
        "from keras.layers import Dense, Conv2D, Flatten, MaxPooling2D, Dropout, Resizing, GlobalAveragePooling2D, Concatenate, Input\n",
        "\n",
        "from keras.models import Model"
      ]
    },
    {
      "cell_type": "code",
      "execution_count": null,
      "metadata": {
        "id": "UXzCPpWK2iPs"
      },
      "outputs": [],
      "source": [
        "(x_train, y_train), (x_test, y_test)=tf.keras.datasets.mnist.load_data()\n",
        "\n",
        "x_train = x_train.reshape((60000, 28,28,1))\n",
        "\n",
        "x_test = x_test.reshape((10000, 28, 28,1))"
      ]
    },
    {
      "cell_type": "code",
      "execution_count": null,
      "metadata": {
        "id": "xAPHgzHO2vgP"
      },
      "outputs": [],
      "source": [
        "def googlenet():\n",
        "    def inception_block(x,sizes):\n",
        "        f1= Conv2D(sizes[0],1,activation='relu')(x)\n",
        "        f2= Conv2D(sizes[1],1,activation='relu')(x)\n",
        "        f2= Conv2D(sizes[2],3,padding='same', activation='relu')(f2)\n",
        "\n",
        "        f3= Conv2D(sizes[3],1,activation='relu')(x)\n",
        "        f3= Conv2D(sizes[4],5,padding='same', activation='relu')(f3)\n",
        "\n",
        "        f4=  MaxPooling2D(3, strides=1,padding='same')(x)\n",
        "        f4= Conv2D(sizes[5],1, activation='relu')(f4)\n",
        "\n",
        "        output= Concatenate()([f1,f2,f3,f4])\n",
        "        return output\n",
        "\n",
        "    input=Input(shape=(28,28,1))\n",
        "    x= Conv2D(64,7,strides=2, padding='same', activation='relu')(input)\n",
        "    x= MaxPooling2D(3,strides=2,padding='same')(x)\n",
        "    x=Conv2D(64,1,activation='relu')(x)\n",
        "    x= Conv2D(192,3, padding='same',activation='relu')(x)\n",
        "    x= MaxPooling2D(3, strides=2, padding='same')(x)\n",
        "    x=inception_block(x,[64,96,128,16,32,32])\n",
        "    x=inception_block(x,[384,192,384,48,128,128])\n",
        "    x=GlobalAveragePooling2D()(x)\n",
        "    x=Dropout(0.4)(x)\n",
        "    output=Dense(10,activation='softmax')(x)\n",
        "    model=Model(input,output)\n",
        "    return model\n",
        "from tensorflow.keras.utils import to_categorical \n",
        "#one-hot encoding of training and testing labels\n",
        "\n",
        "y_train = to_categorical(y_train)\n",
        "\n",
        "y_test = to_categorical(y_test)"
      ]
    },
    {
      "cell_type": "code",
      "execution_count": null,
      "metadata": {
        "id": "4o3d5kTA2xN2"
      },
      "outputs": [],
      "source": [
        "googlenet_model = googlenet()"
      ]
    },
    {
      "cell_type": "code",
      "execution_count": null,
      "metadata": {
        "colab": {
          "base_uri": "https://localhost:8080/"
        },
        "id": "iDj7DwTo2_9a",
        "outputId": "5cdbff44-44c1-414b-aa5a-d39670cc463e"
      },
      "outputs": [
        {
          "name": "stdout",
          "output_type": "stream",
          "text": [
            "Model: \"model_5\"\n",
            "__________________________________________________________________________________________________\n",
            " Layer (type)                   Output Shape         Param #     Connected to                     \n",
            "==================================================================================================\n",
            " input_8 (InputLayer)           [(None, 28, 28, 1)]  0           []                               \n",
            "                                                                                                  \n",
            " conv2d_105 (Conv2D)            (None, 14, 14, 64)   3200        ['input_8[0][0]']                \n",
            "                                                                                                  \n",
            " max_pooling2d_28 (MaxPooling2D  (None, 7, 7, 64)    0           ['conv2d_105[0][0]']             \n",
            " )                                                                                                \n",
            "                                                                                                  \n",
            " conv2d_106 (Conv2D)            (None, 7, 7, 64)     4160        ['max_pooling2d_28[0][0]']       \n",
            "                                                                                                  \n",
            " conv2d_107 (Conv2D)            (None, 7, 7, 192)    110784      ['conv2d_106[0][0]']             \n",
            "                                                                                                  \n",
            " max_pooling2d_29 (MaxPooling2D  (None, 4, 4, 192)   0           ['conv2d_107[0][0]']             \n",
            " )                                                                                                \n",
            "                                                                                                  \n",
            " conv2d_109 (Conv2D)            (None, 4, 4, 96)     18528       ['max_pooling2d_29[0][0]']       \n",
            "                                                                                                  \n",
            " conv2d_111 (Conv2D)            (None, 4, 4, 16)     3088        ['max_pooling2d_29[0][0]']       \n",
            "                                                                                                  \n",
            " max_pooling2d_30 (MaxPooling2D  (None, 4, 4, 192)   0           ['max_pooling2d_29[0][0]']       \n",
            " )                                                                                                \n",
            "                                                                                                  \n",
            " conv2d_108 (Conv2D)            (None, 4, 4, 64)     12352       ['max_pooling2d_29[0][0]']       \n",
            "                                                                                                  \n",
            " conv2d_110 (Conv2D)            (None, 4, 4, 128)    110720      ['conv2d_109[0][0]']             \n",
            "                                                                                                  \n",
            " conv2d_112 (Conv2D)            (None, 4, 4, 32)     12832       ['conv2d_111[0][0]']             \n",
            "                                                                                                  \n",
            " conv2d_113 (Conv2D)            (None, 4, 4, 32)     6176        ['max_pooling2d_30[0][0]']       \n",
            "                                                                                                  \n",
            " concatenate_14 (Concatenate)   (None, 4, 4, 256)    0           ['conv2d_108[0][0]',             \n",
            "                                                                  'conv2d_110[0][0]',             \n",
            "                                                                  'conv2d_112[0][0]',             \n",
            "                                                                  'conv2d_113[0][0]']             \n",
            "                                                                                                  \n",
            " conv2d_115 (Conv2D)            (None, 4, 4, 192)    49344       ['concatenate_14[0][0]']         \n",
            "                                                                                                  \n",
            " conv2d_117 (Conv2D)            (None, 4, 4, 48)     12336       ['concatenate_14[0][0]']         \n",
            "                                                                                                  \n",
            " max_pooling2d_31 (MaxPooling2D  (None, 4, 4, 256)   0           ['concatenate_14[0][0]']         \n",
            " )                                                                                                \n",
            "                                                                                                  \n",
            " conv2d_114 (Conv2D)            (None, 4, 4, 384)    98688       ['concatenate_14[0][0]']         \n",
            "                                                                                                  \n",
            " conv2d_116 (Conv2D)            (None, 4, 4, 384)    663936      ['conv2d_115[0][0]']             \n",
            "                                                                                                  \n",
            " conv2d_118 (Conv2D)            (None, 4, 4, 128)    153728      ['conv2d_117[0][0]']             \n",
            "                                                                                                  \n",
            " conv2d_119 (Conv2D)            (None, 4, 4, 128)    32896       ['max_pooling2d_31[0][0]']       \n",
            "                                                                                                  \n",
            " concatenate_15 (Concatenate)   (None, 4, 4, 1024)   0           ['conv2d_114[0][0]',             \n",
            "                                                                  'conv2d_116[0][0]',             \n",
            "                                                                  'conv2d_118[0][0]',             \n",
            "                                                                  'conv2d_119[0][0]']             \n",
            "                                                                                                  \n",
            " global_average_pooling2d_7 (Gl  (None, 1024)        0           ['concatenate_15[0][0]']         \n",
            " obalAveragePooling2D)                                                                            \n",
            "                                                                                                  \n",
            " dropout_7 (Dropout)            (None, 1024)         0           ['global_average_pooling2d_7[0][0\n",
            "                                                                 ]']                              \n",
            "                                                                                                  \n",
            " dense_7 (Dense)                (None, 10)           10250       ['dropout_7[0][0]']              \n",
            "                                                                                                  \n",
            "==================================================================================================\n",
            "Total params: 1,303,018\n",
            "Trainable params: 1,303,018\n",
            "Non-trainable params: 0\n",
            "__________________________________________________________________________________________________\n"
          ]
        }
      ],
      "source": [
        "googlenet_model.summary()"
      ]
    },
    {
      "cell_type": "code",
      "execution_count": null,
      "metadata": {
        "id": "VaO40hm23HbQ"
      },
      "outputs": [],
      "source": [
        "googlenet_model.compile(optimizer='adam', loss=\"categorical_crossentropy\", metrics=['accuracy'])"
      ]
    },
    {
      "cell_type": "code",
      "execution_count": null,
      "metadata": {
        "colab": {
          "background_save": true,
          "base_uri": "https://localhost:8080/"
        },
        "id": "TTI06n4J3Xby",
        "outputId": "0cbcad74-c008-47e5-b2b9-85d435ed0ac9"
      },
      "outputs": [
        {
          "name": "stdout",
          "output_type": "stream",
          "text": [
            "938/938 [==============================] - 354s 376ms/step - loss: 0.2725 - accuracy: 0.9221\n"
          ]
        },
        {
          "data": {
            "text/plain": [
              "<keras.callbacks.History at 0x7f07556aa820>"
            ]
          },
          "execution_count": 67,
          "metadata": {},
          "output_type": "execute_result"
        }
      ],
      "source": [
        "googlenet_model.fit(x_train, y_train, batch_size=64, epochs=1)"
      ]
    }
  ],
  "metadata": {
    "colab": {
      "provenance": []
    },
    "kernelspec": {
      "display_name": "Python 3",
      "name": "python3"
    },
    "language_info": {
      "name": "python"
    }
  },
  "nbformat": 4,
  "nbformat_minor": 0
}